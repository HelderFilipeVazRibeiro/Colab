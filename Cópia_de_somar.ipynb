{
  "nbformat": 4,
  "nbformat_minor": 0,
  "metadata": {
    "colab": {
      "provenance": [],
      "authorship_tag": "ABX9TyMJMrn1c3C0/lYc2cC4cTwK",
      "include_colab_link": true
    },
    "kernelspec": {
      "name": "python3",
      "display_name": "Python 3"
    },
    "language_info": {
      "name": "python"
    }
  },
  "cells": [
    {
      "cell_type": "markdown",
      "metadata": {
        "id": "view-in-github",
        "colab_type": "text"
      },
      "source": [
        "<a href=\"https://colab.research.google.com/github/HelderFilipeVazRibeiro/Colab/blob/main/C%C3%B3pia_de_somar.ipynb\" target=\"_parent\"><img src=\"https://colab.research.google.com/assets/colab-badge.svg\" alt=\"Open In Colab\"/></a>"
      ]
    },
    {
      "cell_type": "code",
      "execution_count": null,
      "metadata": {
        "colab": {
          "base_uri": "https://localhost:8080/"
        },
        "id": "1c3Y57xk2O6u",
        "outputId": "53e49bb8-0a9d-4cac-f073-419c118d09b8"
      },
      "outputs": [
        {
          "output_type": "stream",
          "name": "stdout",
          "text": [
            "Vamos proceder à soma de dois valores introduzidos de seguida:\n",
            "Introduza, por favor, o 1º número a somar: 10\n",
            "Introduza, por favor, o 2º número a somar: 5\n",
            "O valor da soma entre o 10 e o 5 é 15\n"
          ]
        }
      ],
      "source": [
        "def somar():\n",
        "  try:\n",
        "    print(\"Vamos proceder à soma de dois valores introduzidos de seguida:\")\n",
        "    num1 = int(input(\"Introduza, por favor, o 1º número a somar: \"))\n",
        "    num2 = int(input(\"Introduza, por favor, o 2º número a somar: \"))\n",
        "    soma = num1 + num2\n",
        "    print( f\"O valor da soma entre o {num1} e o {num2} é {soma}\")\n",
        "  except ValueError:\n",
        "    print(\"Por favor, certifique-se de que introduziu os valores inteiros.\")\n",
        "\n",
        "somar()\n"
      ]
    },
    {
      "cell_type": "code",
      "source": [
        "def somar():\n",
        "  try:\n",
        "    print(\"Vamos proceder à soma de dois valores introduzidos de seguida:\")\n",
        "    num1 = int(input(\"Introduza, por favor, o 1º número a somar: \"))\n",
        "    num2 = int(input(\"Introduza, por favor, o 2º número a somar: \"))\n",
        "    soma = num1 + num2\n",
        "    print( f\"O valor da soma entre o {num1} e o {num2} é {soma}\")\n",
        "  except ValueError:\n",
        "    print(\"Por favor, certifique-se de que introduziu os valores inteiros.\")\n",
        "\n",
        "somar()"
      ],
      "metadata": {
        "id": "Dm2HFIMF90zO"
      },
      "execution_count": null,
      "outputs": []
    }
  ]
}